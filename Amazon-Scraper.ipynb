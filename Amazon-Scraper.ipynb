{
 "metadata": {
  "language_info": {
   "codemirror_mode": {
    "name": "ipython",
    "version": 3
   },
   "file_extension": ".py",
   "mimetype": "text/x-python",
   "name": "python",
   "nbconvert_exporter": "python",
   "pygments_lexer": "ipython3",
   "version": "3.9.0"
  },
  "orig_nbformat": 2,
  "kernelspec": {
   "name": "python390jvsc74a57bd009309e4863fd569e222f49c59d785c066dabfbf6209be6e4441b1176fd1b8c16",
   "display_name": "Python 3.9.0 64-bit"
  },
  "metadata": {
   "interpreter": {
    "hash": "09309e4863fd569e222f49c59d785c066dabfbf6209be6e4441b1176fd1b8c16"
   }
  }
 },
 "nbformat": 4,
 "nbformat_minor": 2,
 "cells": [
  {
   "cell_type": "code",
   "execution_count": 14,
   "metadata": {},
   "outputs": [],
   "source": [
    "## BLOCK\n",
    "import csv\n",
    "from bs4 import BeautifulSoup\n",
    "from selenium import webdriver\n",
    "\n",
    "##URL\n",
    "def get_url(search_term):\n",
    "    template = 'https://www.amazon.com/s?k={}'\n",
    "    search_term = search_term.replace(' ', '+')\n",
    "    \n",
    "    # Add Term Query To URL\n",
    "    url = template.format(search_term)\n",
    "    \n",
    "    # Add Page Query Placeholder\n",
    "    url += '&page={}'\n",
    "    \n",
    "    return url\n",
    "\n",
    "\n",
    "##RECORD\n",
    "def extract_record(item):\n",
    "    ##Description and URL\n",
    "    atag = item.h2.a\n",
    "    description = atag.text.strip()\n",
    "    url = 'https://www.amazon.com' + atag.get('href')\n",
    "    \n",
    "    #Price\n",
    "    try:\n",
    "        price_parent = item.find('span','a-price')\n",
    "        price = price_parent.find('span', 'a-offscreen').text\n",
    "    except AttributeError:\n",
    "        return\n",
    "    #Rank and Rating\n",
    "    try:\n",
    "        rating = item.i.text\n",
    "        review_count = item.find('span', {'class': 'a-size-base', 'dir': 'auto'}).text\n",
    "    except AttributeError:\n",
    "        rating = ''\n",
    "        review_count = ''\n",
    "    \n",
    "    result = (description, price, rating, review_count, url)\n",
    "    return result\n",
    "\n",
    "##MAIN\n",
    "def main(search_term):\n",
    "    ##inicializamos el webdriver\n",
    "    driver = webdriver.Chrome()\n",
    "\n",
    "    records = []\n",
    "    url = get_url(search_term)\n",
    "\n",
    "    ##va de la pagina 1 al 20\n",
    "    for page in range (1,4):\n",
    "        driver.get(url.format(page))\n",
    "        soup =BeautifulSoup(driver.page_source, 'html.parser')\n",
    "\n",
    "        results = soup.find_all('div',{'data-component-type': 's-search-result'})\n",
    "\n",
    "        for item in results:\n",
    "            record = extract_record(item)\n",
    "            if record:\n",
    "                records.append(record)\n",
    "    \n",
    "    driver.close()\n",
    "\n",
    "    ##Guardar la data en csv comas, separated values\n",
    "    with open('amazon.csv','w',newline='', encoding='utf-8') as f:\n",
    "        writer = csv.writer(f)\n",
    "        writer.writerow(['Description', 'Price', 'Rating', 'Reviews', 'Url'])\n",
    "        writer.writerows(records)\n",
    "\n"
   ]
  },
  {
   "cell_type": "code",
   "execution_count": 15,
   "metadata": {},
   "outputs": [],
   "source": [
    "main('xiaomi')"
   ]
  }
 ]
}